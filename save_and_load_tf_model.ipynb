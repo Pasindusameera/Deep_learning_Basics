{
  "cells": [
    {
      "cell_type": "markdown",
      "metadata": {
        "id": "view-in-github",
        "colab_type": "text"
      },
      "source": [
        "<a href=\"https://colab.research.google.com/github/Pasindusameera/Deep_learning_Basics/blob/main/save_and_load_tf_model.ipynb\" target=\"_parent\"><img src=\"https://colab.research.google.com/assets/colab-badge.svg\" alt=\"Open In Colab\"/></a>"
      ]
    },
    {
      "cell_type": "code",
      "execution_count": 1,
      "id": "6883fbed",
      "metadata": {
        "id": "6883fbed"
      },
      "outputs": [],
      "source": [
        "import tensorflow as tf"
      ]
    },
    {
      "cell_type": "code",
      "execution_count": 2,
      "id": "9aabd954",
      "metadata": {
        "colab": {
          "base_uri": "https://localhost:8080/"
        },
        "id": "9aabd954",
        "outputId": "316d690b-1f9a-4060-f537-7c3177f97075"
      },
      "outputs": [
        {
          "output_type": "execute_result",
          "data": {
            "text/plain": [
              "<tf.Tensor: shape=(50,), dtype=int32, numpy=\n",
              "array([ 0,  2,  4,  6,  8, 10, 12, 14, 16, 18, 20, 22, 24, 26, 28, 30, 32,\n",
              "       34, 36, 38, 40, 42, 44, 46, 48, 50, 52, 54, 56, 58, 60, 62, 64, 66,\n",
              "       68, 70, 72, 74, 76, 78, 80, 82, 84, 86, 88, 90, 92, 94, 96, 98],\n",
              "      dtype=int32)>"
            ]
          },
          "metadata": {},
          "execution_count": 2
        }
      ],
      "source": [
        "X = tf.range(0, 100, 2)\n",
        "X"
      ]
    },
    {
      "cell_type": "code",
      "execution_count": 3,
      "id": "afb912f7",
      "metadata": {
        "colab": {
          "base_uri": "https://localhost:8080/"
        },
        "id": "afb912f7",
        "outputId": "786b0809-9831-40e9-e9f6-4bfd8f06b3aa"
      },
      "outputs": [
        {
          "output_type": "execute_result",
          "data": {
            "text/plain": [
              "<tf.Tensor: shape=(50,), dtype=int32, numpy=\n",
              "array([  3,   7,  11,  15,  19,  23,  27,  31,  35,  39,  43,  47,  51,\n",
              "        55,  59,  63,  67,  71,  75,  79,  83,  87,  91,  95,  99, 103,\n",
              "       107, 111, 115, 119, 123, 127, 131, 135, 139, 143, 147, 151, 155,\n",
              "       159, 163, 167, 171, 175, 179, 183, 187, 191, 195, 199], dtype=int32)>"
            ]
          },
          "metadata": {},
          "execution_count": 3
        }
      ],
      "source": [
        "y = 2*X + 3\n",
        "y"
      ]
    },
    {
      "cell_type": "code",
      "execution_count": 4,
      "id": "55258d84",
      "metadata": {
        "scrolled": false,
        "colab": {
          "base_uri": "https://localhost:8080/",
          "height": 430
        },
        "id": "55258d84",
        "outputId": "7355a403-0b5a-4b8a-c075-908901d8af71"
      },
      "outputs": [
        {
          "output_type": "display_data",
          "data": {
            "text/plain": [
              "<Figure size 640x480 with 1 Axes>"
            ],
            "image/png": "[encoded data removed]"
          },
          "metadata": {}
        }
      ],
      "source": [
        "import matplotlib.pyplot as plt\n",
        "plt.scatter(X, y)\n",
        "plt.show()"
      ]
    },
    {
      "cell_type": "markdown",
      "id": "c689d7a3",
      "metadata": {
        "id": "c689d7a3"
      },
      "source": [
        "### Model Building"
      ]
    },
    {
      "cell_type": "code",
      "execution_count": 5,
      "id": "a1e9b223",
      "metadata": {
        "colab": {
          "base_uri": "https://localhost:8080/"
        },
        "id": "a1e9b223",
        "outputId": "d9ab56af-907d-43dc-aae1-1fd3979ae5e5"
      },
      "outputs": [
        {
          "output_type": "stream",
          "name": "stdout",
          "text": [
            "Epoch 1/50\n",
            "2/2 [==============================] - 1s 17ms/step - loss: 78.8804 - mae: 78.8804\n",
            "Epoch 2/50\n",
            "2/2 [==============================] - 0s 11ms/step - loss: 70.8322 - mae: 70.8322\n",
            "Epoch 3/50\n",
            "2/2 [==============================] - 0s 8ms/step - loss: 62.4602 - mae: 62.4602\n",
            "Epoch 4/50\n",
            "2/2 [==============================] - 0s 7ms/step - loss: 54.5333 - mae: 54.5333\n",
            "Epoch 5/50\n",
            "2/2 [==============================] - 0s 7ms/step - loss: 46.6047 - mae: 46.6047\n",
            "Epoch 6/50\n",
            "2/2 [==============================] - 0s 11ms/step - loss: 37.7762 - mae: 37.7762\n",
            "Epoch 7/50\n",
            "2/2 [==============================] - 0s 11ms/step - loss: 29.3870 - mae: 29.3870\n",
            "Epoch 8/50\n",
            "2/2 [==============================] - 0s 8ms/step - loss: 20.6142 - mae: 20.6142\n",
            "Epoch 9/50\n",
            "2/2 [==============================] - 0s 8ms/step - loss: 11.4656 - mae: 11.4656\n",
            "Epoch 10/50\n",
            "2/2 [==============================] - 0s 7ms/step - loss: 3.0806 - mae: 3.0806\n",
            "Epoch 11/50\n",
            "2/2 [==============================] - 0s 7ms/step - loss: 5.6334 - mae: 5.6334\n",
            "Epoch 12/50\n",
            "2/2 [==============================] - 0s 7ms/step - loss: 9.7063 - mae: 9.7063\n",
            "Epoch 13/50\n",
            "2/2 [==============================] - 0s 9ms/step - loss: 10.7655 - mae: 10.7655\n",
            "Epoch 14/50\n",
            "2/2 [==============================] - 0s 7ms/step - loss: 9.5282 - mae: 9.5282\n",
            "Epoch 15/50\n",
            "2/2 [==============================] - 0s 9ms/step - loss: 6.4874 - mae: 6.4874\n",
            "Epoch 16/50\n",
            "2/2 [==============================] - 0s 10ms/step - loss: 2.6365 - mae: 2.6365\n",
            "Epoch 17/50\n",
            "2/2 [==============================] - 0s 7ms/step - loss: 2.3892 - mae: 2.3892\n",
            "Epoch 18/50\n",
            "2/2 [==============================] - 0s 7ms/step - loss: 4.8756 - mae: 4.8756\n",
            "Epoch 19/50\n",
            "2/2 [==============================] - 0s 7ms/step - loss: 5.0626 - mae: 5.0626\n",
            "Epoch 20/50\n",
            "2/2 [==============================] - 0s 8ms/step - loss: 3.5097 - mae: 3.5097\n",
            "Epoch 21/50\n",
            "2/2 [==============================] - 0s 18ms/step - loss: 1.2068 - mae: 1.2068\n",
            "Epoch 22/50\n",
            "2/2 [==============================] - 0s 10ms/step - loss: 2.8615 - mae: 2.8615\n",
            "Epoch 23/50\n",
            "2/2 [==============================] - 0s 11ms/step - loss: 3.4145 - mae: 3.4145\n",
            "Epoch 24/50\n",
            "2/2 [==============================] - 0s 12ms/step - loss: 2.3147 - mae: 2.3147\n",
            "Epoch 25/50\n",
            "2/2 [==============================] - 0s 11ms/step - loss: 1.0168 - mae: 1.0168\n",
            "Epoch 26/50\n",
            "2/2 [==============================] - 0s 14ms/step - loss: 2.2728 - mae: 2.2728\n",
            "Epoch 27/50\n",
            "2/2 [==============================] - 0s 9ms/step - loss: 1.9331 - mae: 1.9331\n",
            "Epoch 28/50\n",
            "2/2 [==============================] - 0s 10ms/step - loss: 0.8435 - mae: 0.8435\n",
            "Epoch 29/50\n",
            "2/2 [==============================] - 0s 10ms/step - loss: 1.5667 - mae: 1.5667\n",
            "Epoch 30/50\n",
            "2/2 [==============================] - 0s 11ms/step - loss: 1.2341 - mae: 1.2341\n",
            "Epoch 31/50\n",
            "2/2 [==============================] - 0s 9ms/step - loss: 0.8189 - mae: 0.8189\n",
            "Epoch 32/50\n",
            "2/2 [==============================] - 0s 18ms/step - loss: 1.5489 - mae: 1.5489\n",
            "Epoch 33/50\n",
            "2/2 [==============================] - 0s 11ms/step - loss: 0.7913 - mae: 0.7913\n",
            "Epoch 34/50\n",
            "2/2 [==============================] - 0s 13ms/step - loss: 1.4553 - mae: 1.4553\n",
            "Epoch 35/50\n",
            "2/2 [==============================] - 0s 14ms/step - loss: 1.2912 - mae: 1.2912\n",
            "Epoch 36/50\n",
            "2/2 [==============================] - 0s 11ms/step - loss: 0.7412 - mae: 0.7412\n",
            "Epoch 37/50\n",
            "2/2 [==============================] - 0s 10ms/step - loss: 1.4716 - mae: 1.4716\n",
            "Epoch 38/50\n",
            "2/2 [==============================] - 0s 13ms/step - loss: 0.7585 - mae: 0.7585\n",
            "Epoch 39/50\n",
            "2/2 [==============================] - 0s 10ms/step - loss: 1.2547 - mae: 1.2547\n",
            "Epoch 40/50\n",
            "2/2 [==============================] - 0s 16ms/step - loss: 0.8706 - mae: 0.8706\n",
            "Epoch 41/50\n",
            "2/2 [==============================] - 0s 13ms/step - loss: 0.9026 - mae: 0.9026\n",
            "Epoch 42/50\n",
            "2/2 [==============================] - 0s 14ms/step - loss: 0.7375 - mae: 0.7375\n",
            "Epoch 43/50\n",
            "2/2 [==============================] - 0s 12ms/step - loss: 0.7011 - mae: 0.7011\n",
            "Epoch 44/50\n",
            "2/2 [==============================] - 0s 14ms/step - loss: 0.5505 - mae: 0.5505\n",
            "Epoch 45/50\n",
            "2/2 [==============================] - 0s 14ms/step - loss: 0.6580 - mae: 0.6580\n",
            "Epoch 46/50\n",
            "2/2 [==============================] - 0s 13ms/step - loss: 0.5154 - mae: 0.5154\n",
            "Epoch 47/50\n",
            "2/2 [==============================] - 0s 13ms/step - loss: 0.3908 - mae: 0.3908\n",
            "Epoch 48/50\n",
            "2/2 [==============================] - 0s 14ms/step - loss: 0.6828 - mae: 0.6828\n",
            "Epoch 49/50\n",
            "2/2 [==============================] - 0s 12ms/step - loss: 0.3844 - mae: 0.3844\n",
            "Epoch 50/50\n",
            "2/2 [==============================] - 0s 11ms/step - loss: 0.3996 - mae: 0.3996\n"
          ]
        },
        {
          "output_type": "execute_result",
          "data": {
            "text/plain": [
              "<keras.src.callbacks.History at 0x7b19c84cbbe0>"
            ]
          },
          "metadata": {},
          "execution_count": 5
        }
      ],
      "source": [
        "# create a model\n",
        "model = tf.keras.Sequential([\n",
        "    tf.keras.layers.Dense(10, input_shape=(1,)),\n",
        "    tf.keras.layers.Dense(1)\n",
        "])\n",
        "\n",
        "# compile the model\n",
        "model.compile(loss = tf.keras.losses.mae,\n",
        "             optimizer = tf.keras.optimizers.Adam(0.01),\n",
        "             metrics = ['mae'])\n",
        "\n",
        "# train the model\n",
        "model.fit(X, y, epochs=50)"
      ]
    },
    {
      "cell_type": "code",
      "execution_count": 6,
      "id": "d32919aa",
      "metadata": {
        "colab": {
          "base_uri": "https://localhost:8080/"
        },
        "id": "d32919aa",
        "outputId": "1a377cea-84a0-4f68-c96b-3c229eddd5cb"
      },
      "outputs": [
        {
          "output_type": "execute_result",
          "data": {
            "text/plain": [
              "303"
            ]
          },
          "metadata": {},
          "execution_count": 6
        }
      ],
      "source": [
        "X_val = 150\n",
        "2*X_val + 3"
      ]
    },
    {
      "cell_type": "code",
      "execution_count": 7,
      "id": "78a2206c",
      "metadata": {
        "colab": {
          "base_uri": "https://localhost:8080/"
        },
        "id": "78a2206c",
        "outputId": "29e6a0ef-b534-4aaf-8995-c974f4ba8a68"
      },
      "outputs": [
        {
          "output_type": "execute_result",
          "data": {
            "text/plain": [
              "-17"
            ]
          },
          "metadata": {},
          "execution_count": 7
        }
      ],
      "source": [
        "X_val = -10\n",
        "2*X_val + 3"
      ]
    },
    {
      "cell_type": "code",
      "execution_count": 8,
      "id": "0a3102ac",
      "metadata": {
        "colab": {
          "base_uri": "https://localhost:8080/"
        },
        "id": "0a3102ac",
        "outputId": "645dbaec-4509-4b0b-c995-9bc98f3b9179"
      },
      "outputs": [
        {
          "output_type": "stream",
          "name": "stdout",
          "text": [
            "1/1 [==============================] - 0s 141ms/step\n"
          ]
        },
        {
          "output_type": "execute_result",
          "data": {
            "text/plain": [
              "array([[302.5787  ],\n",
              "       [-17.649757]], dtype=float32)"
            ]
          },
          "metadata": {},
          "execution_count": 8
        }
      ],
      "source": [
        "model.predict([150, -10])"
      ]
    },
    {
      "cell_type": "markdown",
      "id": "ab68f19e",
      "metadata": {
        "id": "ab68f19e"
      },
      "source": [
        "### Save model using SavedModel format"
      ]
    },
    {
      "cell_type": "code",
      "execution_count": 9,
      "id": "f9a2a6bc",
      "metadata": {
        "id": "f9a2a6bc"
      },
      "outputs": [],
      "source": [
        "model.save(\"new_model_1\")"
      ]
    },
    {
      "cell_type": "markdown",
      "id": "ba30679e",
      "metadata": {
        "id": "ba30679e"
      },
      "source": [
        "### Save model using HDF5 format"
      ]
    },
    {
      "cell_type": "code",
      "execution_count": 10,
      "id": "a5c973c3",
      "metadata": {
        "id": "a5c973c3",
        "colab": {
          "base_uri": "https://localhost:8080/"
        },
        "outputId": "f9467a1b-1bfe-4a05-8574-9cdda98af4f2"
      },
      "outputs": [
        {
          "output_type": "stream",
          "name": "stderr",
          "text": [
            "/usr/local/lib/python3.10/dist-packages/keras/src/engine/training.py:3103: UserWarning: You are saving your model as an HDF5 file via `model.save()`. This file format is considered legacy. We recommend using instead the native Keras format, e.g. `model.save('my_model.keras')`.\n",
            "  saving_api.save_model(\n"
          ]
        }
      ],
      "source": [
        "model.save(\"new_model_2.h5\")"
      ]
    },
    {
      "cell_type": "code",
      "source": [
        "from google.colab import drive\n",
        "drive.mount('/content/drive')"
      ],
      "metadata": {
        "id": "TvclzVIk4HDN",
        "colab": {
          "base_uri": "https://localhost:8080/"
        },
        "outputId": "6b5d7355-48d6-4e3b-d094-62973370fc90"
      },
      "id": "TvclzVIk4HDN",
      "execution_count": 11,
      "outputs": [
        {
          "output_type": "stream",
          "name": "stdout",
          "text": [
            "Mounted at /content/drive\n"
          ]
        }
      ]
    },
    {
      "cell_type": "markdown",
      "source": [
        "Using SavedModel format"
      ],
      "metadata": {
        "id": "Wsq0x-12Abvh"
      },
      "id": "Wsq0x-12Abvh"
    },
    {
      "cell_type": "code",
      "source": [
        "import tensorflow as tf\n",
        "new_model_1 = tf.keras.models.load_model('new_model_1')\n",
        "new_model_1.predict([150, -10])"
      ],
      "metadata": {
        "colab": {
          "base_uri": "https://localhost:8080/"
        },
        "id": "JFkQuyON_mhX",
        "outputId": "f43973fc-c97d-4071-ab75-9e9428d74a04"
      },
      "id": "JFkQuyON_mhX",
      "execution_count": 12,
      "outputs": [
        {
          "output_type": "stream",
          "name": "stdout",
          "text": [
            "1/1 [==============================] - 0s 124ms/step\n"
          ]
        },
        {
          "output_type": "execute_result",
          "data": {
            "text/plain": [
              "array([[302.5787  ],\n",
              "       [-17.649757]], dtype=float32)"
            ]
          },
          "metadata": {},
          "execution_count": 12
        }
      ]
    },
    {
      "cell_type": "code",
      "source": [
        "new_model_1.summary()"
      ],
      "metadata": {
        "colab": {
          "base_uri": "https://localhost:8080/"
        },
        "id": "nfXAGDaW_m8W",
        "outputId": "c16dad3a-6cc9-446f-dccf-7f933306ea2f"
      },
      "id": "nfXAGDaW_m8W",
      "execution_count": 15,
      "outputs": [
        {
          "output_type": "stream",
          "name": "stdout",
          "text": [
            "Model: \"sequential\"\n",
            "_________________________________________________________________\n",
            " Layer (type)                Output Shape              Param #   \n",
            "=================================================================\n",
            " dense (Dense)               (None, 10)                20        \n",
            "                                                                 \n",
            " dense_1 (Dense)             (None, 1)                 11        \n",
            "                                                                 \n",
            "=================================================================\n",
            "Total params: 31 (124.00 Byte)\n",
            "Trainable params: 31 (124.00 Byte)\n",
            "Non-trainable params: 0 (0.00 Byte)\n",
            "_________________________________________________________________\n"
          ]
        }
      ]
    },
    {
      "cell_type": "markdown",
      "source": [
        "\n",
        "Using HDF5 format"
      ],
      "metadata": {
        "id": "6A69y468AEps"
      },
      "id": "6A69y468AEps"
    },
    {
      "cell_type": "code",
      "source": [
        "import tensorflow as tf\n",
        "new_model_2 = tf.keras.models.load_model('new_model_2.h5')\n",
        "new_model_2.predict([150, -10])"
      ],
      "metadata": {
        "colab": {
          "base_uri": "https://localhost:8080/"
        },
        "id": "3LcVC8RF_nVe",
        "outputId": "77e2785d-3280-4886-e611-ebf9d1b580bb"
      },
      "id": "3LcVC8RF_nVe",
      "execution_count": 16,
      "outputs": [
        {
          "output_type": "stream",
          "name": "stdout",
          "text": [
            "1/1 [==============================] - 0s 78ms/step\n"
          ]
        },
        {
          "output_type": "execute_result",
          "data": {
            "text/plain": [
              "array([[302.5787  ],\n",
              "       [-17.649757]], dtype=float32)"
            ]
          },
          "metadata": {},
          "execution_count": 16
        }
      ]
    },
    {
      "cell_type": "code",
      "source": [
        "new_model_2.summary()"
      ],
      "metadata": {
        "colab": {
          "base_uri": "https://localhost:8080/"
        },
        "id": "3xBlb5VWAfaL",
        "outputId": "21a3fc41-1e51-4483-a933-92493211c50a"
      },
      "id": "3xBlb5VWAfaL",
      "execution_count": 17,
      "outputs": [
        {
          "output_type": "stream",
          "name": "stdout",
          "text": [
            "Model: \"sequential\"\n",
            "_________________________________________________________________\n",
            " Layer (type)                Output Shape              Param #   \n",
            "=================================================================\n",
            " dense (Dense)               (None, 10)                20        \n",
            "                                                                 \n",
            " dense_1 (Dense)             (None, 1)                 11        \n",
            "                                                                 \n",
            "=================================================================\n",
            "Total params: 31 (124.00 Byte)\n",
            "Trainable params: 31 (124.00 Byte)\n",
            "Non-trainable params: 0 (0.00 Byte)\n",
            "_________________________________________________________________\n"
          ]
        }
      ]
    },
    {
      "cell_type": "code",
      "source": [],
      "metadata": {
        "id": "XahbR4_TAfYZ"
      },
      "id": "XahbR4_TAfYZ",
      "execution_count": null,
      "outputs": []
    }
  ],
  "metadata": {
    "kernelspec": {
      "display_name": "Python 3 (ipykernel)",
      "language": "python",
      "name": "python3"
    },
    "language_info": {
      "codemirror_mode": {
        "name": "ipython",
        "version": 3
      },
      "file_extension": ".py",
      "mimetype": "text/x-python",
      "name": "python",
      "nbconvert_exporter": "python",
      "pygments_lexer": "ipython3",
      "version": "3.10.9"
    },
    "colab": {
      "provenance": [],
      "include_colab_link": true
    }
  },
  "nbformat": 4,
  "nbformat_minor": 5
}